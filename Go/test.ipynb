{
 "metadata": {
  "language_info": {
   "codemirror_mode": {
    "name": "ipython",
    "version": 3
   },
   "file_extension": ".py",
   "mimetype": "text/x-python",
   "name": "python",
   "nbconvert_exporter": "python",
   "pygments_lexer": "ipython3",
   "version": "3.8.8"
  },
  "orig_nbformat": 2,
  "kernelspec": {
   "name": "python388jvsc74a57bd0d3773b654528d79880d3e2b33a682f0f55f4d8370c8ead39985baabf4eb4f1db",
   "display_name": "Python 3.8.8 64-bit ('test': conda)"
  }
 },
 "nbformat": 4,
 "nbformat_minor": 2,
 "cells": [
  {
   "cell_type": "code",
   "execution_count": 3,
   "metadata": {},
   "outputs": [],
   "source": [
    "from pettingzoo.classic import go_v3\n",
    "import numpy as np\n",
    "from array2gif import write_gif\n",
    "import os\n",
    "os.environ[\"SDL_VIDEODRIVER\"] = \"dummy\"\n",
    "import matplotlib.pyplot as plt"
   ]
  },
  {
   "cell_type": "code",
   "execution_count": 4,
   "metadata": {},
   "outputs": [],
   "source": [
    "env = go_v3.env(board_size = 13, komi = 7.5)"
   ]
  },
  {
   "cell_type": "code",
   "execution_count": 8,
   "metadata": {},
   "outputs": [
    {
     "output_type": "stream",
     "name": "stdout",
     "text": [
      "   A B C D E F G H J K L M N   \n13 \u001b[0;31;43m. \u001b[0m\u001b[0;31;43m. \u001b[0m\u001b[0;31;43m. \u001b[0m\u001b[0;31;43m. \u001b[0m\u001b[0;31;43m. \u001b[0m\u001b[0;31;43m. \u001b[0m\u001b[0;31;43m. \u001b[0m\u001b[0;31;43m. \u001b[0m\u001b[0;31;43m. \u001b[0m\u001b[0;31;43m. \u001b[0m\u001b[0;31;43m. \u001b[0m\u001b[0;31;43m. \u001b[0m\u001b[0;31;43m. \u001b[0m13\n12 \u001b[0;31;43m. \u001b[0m\u001b[0;31;43m. \u001b[0m\u001b[0;31;43m. \u001b[0m\u001b[0;31;43m. \u001b[0m\u001b[0;31;43m. \u001b[0m\u001b[0;31;43m. \u001b[0m\u001b[0;31;43m. \u001b[0m\u001b[0;31;43m. \u001b[0m\u001b[0;31;43m. \u001b[0m\u001b[0;31;43m. \u001b[0m\u001b[0;31;43m. \u001b[0m\u001b[0;31;43m. \u001b[0m\u001b[0;31;43m. \u001b[0m12\n11 \u001b[0;31;43m. \u001b[0m\u001b[0;31;43m. \u001b[0m\u001b[0;31;43m. \u001b[0m\u001b[0;31;43m. \u001b[0m\u001b[0;31;43m. \u001b[0m\u001b[0;31;43m. \u001b[0m\u001b[0;31;43m. \u001b[0m\u001b[0;31;43m. \u001b[0m\u001b[0;31;43m. \u001b[0m\u001b[0;31;43m. \u001b[0m\u001b[0;31;43m. \u001b[0m\u001b[0;31;43m. \u001b[0m\u001b[0;31;43m. \u001b[0m11\n10 \u001b[0;31;43m. \u001b[0m\u001b[0;31;43m. \u001b[0m\u001b[0;31;43m. \u001b[0m\u001b[0;31;43m. \u001b[0m\u001b[0;31;43m. \u001b[0m\u001b[0;31;43m. \u001b[0m\u001b[0;31;43m. \u001b[0m\u001b[0;31;43m. \u001b[0m\u001b[0;31;43m. \u001b[0m\u001b[0;31;43m. \u001b[0m\u001b[0;31;43m. \u001b[0m\u001b[0;31;43m. \u001b[0m\u001b[0;31;43m. \u001b[0m10\n 9 \u001b[0;31;43m. \u001b[0m\u001b[0;31;43m. \u001b[0m\u001b[0;31;43m. \u001b[0m\u001b[0;31;43m. \u001b[0m\u001b[0;31;43m. \u001b[0m\u001b[0;31;43m. \u001b[0m\u001b[0;31;43m. \u001b[0m\u001b[0;31;43m. \u001b[0m\u001b[0;31;43m. \u001b[0m\u001b[0;31;43m. \u001b[0m\u001b[0;31;43m. \u001b[0m\u001b[0;31;43m. \u001b[0m\u001b[0;31;43m. \u001b[0m 9\n 8 \u001b[0;31;43m. \u001b[0m\u001b[0;31;43m. \u001b[0m\u001b[0;31;43m. \u001b[0m\u001b[0;31;43m. \u001b[0m\u001b[0;31;43m. \u001b[0m\u001b[0;31;43m. \u001b[0m\u001b[0;31;43m. \u001b[0m\u001b[0;31;43m. \u001b[0m\u001b[0;31;43m. \u001b[0m\u001b[0;31;43m. \u001b[0m\u001b[0;31;43m. \u001b[0m\u001b[0;31;43m. \u001b[0m\u001b[0;31;43m. \u001b[0m 8\n 7 \u001b[0;31;43m. \u001b[0m\u001b[0;31;43m. \u001b[0m\u001b[0;31;43m. \u001b[0m\u001b[0;31;43m. \u001b[0m\u001b[0;31;43m. \u001b[0m\u001b[0;31;43m. \u001b[0m\u001b[0;31;43m. \u001b[0m\u001b[0;31;43m. \u001b[0m\u001b[0;31;43m. \u001b[0m\u001b[0;31;43m. \u001b[0m\u001b[0;31;43m. \u001b[0m\u001b[0;31;43m. \u001b[0m\u001b[0;31;43m. \u001b[0m 7\n 6 \u001b[0;31;43m. \u001b[0m\u001b[0;31;43m. \u001b[0m\u001b[0;31;43m. \u001b[0m\u001b[0;31;43m. \u001b[0m\u001b[0;31;43m. \u001b[0m\u001b[0;31;43m. \u001b[0m\u001b[0;31;43m. \u001b[0m\u001b[0;31;43m. \u001b[0m\u001b[0;31;43m. \u001b[0m\u001b[0;31;43m. \u001b[0m\u001b[0;31;43m. \u001b[0m\u001b[0;31;43m. \u001b[0m\u001b[0;31;43m. \u001b[0m 6\n 5 \u001b[0;31;43m. \u001b[0m\u001b[0;31;43m. \u001b[0m\u001b[0;31;43m. \u001b[0m\u001b[0;31;43m. \u001b[0m\u001b[0;31;43m. \u001b[0m\u001b[0;31;43m. \u001b[0m\u001b[0;31;43m. \u001b[0m\u001b[0;31;43m. \u001b[0m\u001b[0;31;43m. \u001b[0m\u001b[0;31;43m. \u001b[0m\u001b[0;31;43m. \u001b[0m\u001b[0;31;43m. \u001b[0m\u001b[0;31;43m. \u001b[0m 5\n 4 \u001b[0;31;43m. \u001b[0m\u001b[0;31;43m. \u001b[0m\u001b[0;31;43m. \u001b[0m\u001b[0;31;43m. \u001b[0m\u001b[0;31;43m. \u001b[0m\u001b[0;31;43m. \u001b[0m\u001b[0;31;43m. \u001b[0m\u001b[0;31;43m. \u001b[0m\u001b[0;31;43m. \u001b[0m\u001b[0;31;43m. \u001b[0m\u001b[0;31;43m. \u001b[0m\u001b[0;31;43m. \u001b[0m\u001b[0;31;43m. \u001b[0m 4\n 3 \u001b[0;31;43m. \u001b[0m\u001b[0;31;43m. \u001b[0m\u001b[0;31;43m. \u001b[0m\u001b[0;31;43m. \u001b[0m\u001b[0;31;43m. \u001b[0m\u001b[0;31;43m. \u001b[0m\u001b[0;31;43m. \u001b[0m\u001b[0;31;43m. \u001b[0m\u001b[0;31;43m. \u001b[0m\u001b[0;31;43m. \u001b[0m\u001b[0;31;43m. \u001b[0m\u001b[0;31;43m. \u001b[0m\u001b[0;31;43m. \u001b[0m 3\n 2 \u001b[0;31;43m. \u001b[0m\u001b[0;31;43m. \u001b[0m\u001b[0;31;43m. \u001b[0m\u001b[0;31;43m. \u001b[0m\u001b[0;31;43m. \u001b[0m\u001b[0;31;43m. \u001b[0m\u001b[0;31;43m. \u001b[0m\u001b[0;31;43m. \u001b[0m\u001b[0;31;43m. \u001b[0m\u001b[0;31;43m. \u001b[0m\u001b[0;31;43m. \u001b[0m\u001b[0;31;43m. \u001b[0m\u001b[0;31;43m. \u001b[0m 2\n 1 \u001b[0;31;43m. \u001b[0m\u001b[0;31;43m. \u001b[0m\u001b[0;31;43m. \u001b[0m\u001b[0;31;43m. \u001b[0m\u001b[0;31;43m. \u001b[0m\u001b[0;31;43m. \u001b[0m\u001b[0;31;43m. \u001b[0m\u001b[0;31;43m. \u001b[0m\u001b[0;31;43m. \u001b[0m\u001b[0;31;43m. \u001b[0m\u001b[0;31;43m. \u001b[0m\u001b[0;31;43m. \u001b[0m\u001b[0;31;43m. \u001b[0m 1\n   A B C D E F G H J K L M N   \nMove: 0. Captures X: 0 O: 0\n\n"
     ]
    }
   ],
   "source": [
    "env.reset()\n",
    "env.render()"
   ]
  },
  {
   "cell_type": "code",
   "execution_count": null,
   "metadata": {},
   "outputs": [],
   "source": []
  }
 ]
}